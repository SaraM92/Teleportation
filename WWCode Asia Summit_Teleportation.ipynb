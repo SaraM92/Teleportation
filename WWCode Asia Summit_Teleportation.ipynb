{
  "nbformat": 4,
  "nbformat_minor": 0,
  "metadata": {
    "celltoolbar": "Slideshow",
    "kernelspec": {
      "display_name": "Python 3",
      "language": "python",
      "name": "python3"
    },
    "language_info": {
      "codemirror_mode": {
        "name": "ipython",
        "version": 3
      },
      "file_extension": ".py",
      "mimetype": "text/x-python",
      "name": "python",
      "nbconvert_exporter": "python",
      "pygments_lexer": "ipython3",
      "version": "3.7.3"
    },
    "latex_envs": {
      "LaTeX_envs_menu_present": true,
      "autoclose": true,
      "autocomplete": true,
      "bibliofile": "biblio.bib",
      "cite_by": "apalike",
      "current_citInitial": 1,
      "eqLabelWithNumbers": true,
      "eqNumInitial": 1,
      "hotkeys": {
        "equation": "Ctrl-E",
        "itemize": "Ctrl-I"
      },
      "labels_anchors": false,
      "latex_user_defs": false,
      "report_style_numbering": false,
      "user_envs_cfg": false
    },
    "toc": {
      "base_numbering": 1,
      "nav_menu": {},
      "number_sections": true,
      "sideBar": true,
      "skip_h1_title": false,
      "title_cell": "Table of Contents",
      "title_sidebar": "Contents",
      "toc_cell": false,
      "toc_position": {},
      "toc_section_display": true,
      "toc_window_display": false
    },
    "colab": {
      "name": "WWCode Asia Summit_Teleportation.ipynb",
      "provenance": [],
      "include_colab_link": true
    }
  },
  "cells": [
    {
      "cell_type": "markdown",
      "metadata": {
        "id": "view-in-github",
        "colab_type": "text"
      },
      "source": [
        "<a href=\"https://colab.research.google.com/github/SaraM92/Teleportation/blob/main/WWCode%20Asia%20Summit_Teleportation.ipynb\" target=\"_parent\"><img src=\"https://colab.research.google.com/assets/colab-badge.svg\" alt=\"Open In Colab\"/></a>"
      ]
    },
    {
      "cell_type": "markdown",
      "metadata": {
        "id": "EJsq-TbscxIL"
      },
      "source": [
        "# Programming Quantum Teleportation\n",
        "\n",
        "Sara A. Metwalli\n",
        "\n",
        "Keio University"
      ]
    },
    {
      "cell_type": "markdown",
      "metadata": {
        "id": "pppA2dCncxIN"
      },
      "source": [
        "# About Me\n",
        "---\n",
        "\n",
        "Sara Ayman Metwalli  \n",
        "I am 27 years old from Egypt  \n",
        "Bachelor Degree in Communications and Electronics Engineering in 2014 and Masters Degree in Computer and Communications Engineering from Tokyo Institute of Technology in 2018.  \n",
        "\n",
        "Now, I work with AQUA (Advancing QUantum Architecture) group in Keio University as a researcher.\n",
        "\n",
        "For more information about me: https://sara-ayman-metwalli.jimdosite.com  \n",
        "For more information about AQUA: http://aqua.sfc.wide.ad.jp/home.html"
      ]
    },
    {
      "cell_type": "markdown",
      "metadata": {
        "id": "u90M2Y9xcxIO"
      },
      "source": [
        "## Today we will talk about Teleportation!!!!"
      ]
    },
    {
      "cell_type": "markdown",
      "metadata": {
        "id": "0ZEBucVzcxIP"
      },
      "source": [
        "# No, not the one you are thinking about!\n",
        "\n",
        "<img src=\"https://github.com/SaraM92/Teleportation/blob/main/Pictures/tele.jpg?raw=1\">"
      ]
    },
    {
      "cell_type": "markdown",
      "metadata": {
        "id": "TsxgOI98cxIQ"
      },
      "source": [
        "# Introduction\n",
        "---------------------\n",
        "\n",
        "Quantum teleportation is one of the practical applications of quantum physics that can be implemented using quantum computers.\n",
        "\n",
        "Before we get into what is quantum teleportation, or how to implement it in code.\n",
        "\n",
        "Let's first discuss what is \"Quantum\" ?\n"
      ]
    },
    {
      "cell_type": "markdown",
      "metadata": {
        "id": "kX8XFnw_cxIR"
      },
      "source": [
        "# What is \"Quantum Computing\"?\n",
        "----------\n",
        "Quantum computing is the use of quantum-mechanical phenomena such as superposition and entanglement to perform computation.\n",
        "\n",
        "\n",
        "What is entanglement? and what does superposition mean?\n",
        "\n",
        "\n",
        "To explain these important concepts, we first need to understand what is a \"Qubit\"\n",
        "\n",
        "<img src=\"https://github.com/SaraM92/Teleportation/blob/main/Pictures/thinking_man.jpg?raw=1\">"
      ]
    },
    {
      "cell_type": "markdown",
      "metadata": {
        "id": "IkBrvkvAcxIS"
      },
      "source": [
        "## Quantum Bits (Qubits)\n",
        "---\n",
        "\n",
        "Qubits to quantum computers are the same as bits for classical computers\n",
        "\n",
        "Qubits are the simplest version of a mechanical system used as the base of quantum computers. \n",
        "\n",
        "How qubits interact together follows the laws of quantum theory. The two most important aspects of that are superposition and entanglement. "
      ]
    },
    {
      "cell_type": "markdown",
      "metadata": {
        "id": "ehmSd6dVcxIT"
      },
      "source": [
        "## Quantum Entanglement\n",
        "---\n",
        "Particles (atoms, ions) that have interacted at some point in time retain a  connection and can be entangled with each other as a *pair*. \n",
        "\n",
        "Knowing the spin state of one entangled particle allows one to know that the spin of its entangled particle is in the opposite direction.\n",
        "\n",
        "The entaglement remains until one of the qubits is measured!"
      ]
    },
    {
      "cell_type": "markdown",
      "metadata": {
        "id": "eF4j3MZIcxIU"
      },
      "source": [
        "## Quantum Superposition\n",
        "---\n",
        "Imagine the qubit as an electron in a magnetic field. The electron's spin may be either in alignment with the field, which is known as a spin-up state, or opposite to the field, which is known as a spin-down state. \n",
        "\n",
        "According to quantum law, the particle then enters a superposition of states, in which it behaves as if it were in both states simultaneously and it stays in that states until it is measured.\n"
      ]
    },
    {
      "cell_type": "markdown",
      "metadata": {
        "id": "BEqir9E8cxIV"
      },
      "source": [
        "## Coding Time\n",
        "---\n",
        "\n",
        "How can we represent qubits in code?\n",
        "\n",
        "Use the Python *Qiskit* Module."
      ]
    },
    {
      "cell_type": "code",
      "metadata": {
        "id": "TZ8lIm6LcxIW"
      },
      "source": [
        "#Codes in this notebook are inspired by IBM's Qiskit tutorials and the arXiv:1903.04359v1 paper\n",
        "#This code is written by: Sara A. Metwalli for the Woman Who Code CONNECT Asia Summit 2019\n",
        "\n",
        "#Libraries needed to implement and simulate quantum circuits\n",
        "from qiskit import QuantumRegister, ClassicalRegister, QuantumCircuit, Aer, execute \n",
        "import math as m\n",
        "#Custem functions to simplify answers\n",
        "import Our_Qiskit_Functions as oq #a part of the libabry presented in arXiv:1903.04359v1.\n",
        "\n",
        "\n",
        "#Initialize backends simulators to visualize circuits\n",
        "S_simulator = Aer.backends(name='statevector_simulator')[0]\n",
        "Q_simulator = Aer.backends(name='qasm_simulator')[0]\n",
        "\n",
        "#Create quantum registers (to hold qubits)\n",
        "q = QuantumRegister(2)\n",
        "#Classical register to hold classical bits (Used to measure results)\n",
        "c = ClassicalRegister(2)\n",
        "#Create a quantum circuit using the above registers\n",
        "qc = QuantumCircuit(q,c)"
      ],
      "execution_count": null,
      "outputs": []
    },
    {
      "cell_type": "markdown",
      "metadata": {
        "id": "d_vzoAAccxIb"
      },
      "source": [
        "# Quantum Gates\n",
        "---\n",
        "\n",
        "Programing quantum computers is now done on a gate level, similar to classical gates.\n",
        "\n",
        "Now\n",
        "\n",
        "Let's talk about most common quantum gates"
      ]
    },
    {
      "cell_type": "markdown",
      "metadata": {
        "id": "SznnnOIOcxIc"
      },
      "source": [
        "## Identity Operator\n",
        "---\n",
        "\n",
        "The identity operator leaves the state unchanged, it is mostly used to initialize qubits to zero.\n",
        "\n",
        "| input     | output  |\n",
        "|---------  |-------  |\n",
        "| 0         | 0       |\n",
        "| 1         | 1       |\n"
      ]
    },
    {
      "cell_type": "code",
      "metadata": {
        "id": "Fec8l10McxId",
        "outputId": "3f4b9994-f46c-4f29-cb61-a470bb8b634c"
      },
      "source": [
        "#1- Iden operator\n",
        "qc.iden(q[0])\n",
        "print(oq.Wavefunction(qc))\n",
        "qc.draw(output = \"mpl\")"
      ],
      "execution_count": null,
      "outputs": [
        {
          "output_type": "stream",
          "text": [
            "1.0  |00>   \n",
            "1.0  |00>   \n"
          ],
          "name": "stdout"
        },
        {
          "output_type": "execute_result",
          "data": {
            "text/html": [
              "<pre style=\"word-wrap: normal;white-space: pre;line-height: 15px;\">         ┌────┐\n",
              "q3_0: |0>┤ Id ├\n",
              "         └────┘\n",
              "q3_1: |0>──────\n",
              "               \n",
              " c3_0: 0 ══════\n",
              "               \n",
              " c3_1: 0 ══════\n",
              "               </pre>"
            ],
            "text/plain": [
              "<qiskit.visualization.text.TextDrawing at 0x1eaf166bef0>"
            ]
          },
          "metadata": {
            "tags": []
          },
          "execution_count": 18
        }
      ]
    },
    {
      "cell_type": "markdown",
      "metadata": {
        "id": "XydQRAracxIj"
      },
      "source": [
        "## NOT Gate\n",
        "---\n",
        "\n",
        "The NOT gate takes a qubits and flips its state!\n",
        "\n",
        "| input   | output|\n",
        "|---------|-------|\n",
        "| 0       | 1     |\n",
        "| 1       | 0     |\n"
      ]
    },
    {
      "cell_type": "code",
      "metadata": {
        "id": "7gHlfZpBcxIk",
        "outputId": "6205f8f7-c648-4edb-eca7-c64f93b5ce45"
      },
      "source": [
        "#2- NOT gate\n",
        "qc.x(q[0])\n",
        "print(oq.Wavefunction(qc))\n",
        "qc.draw(output = \"mpl\")"
      ],
      "execution_count": null,
      "outputs": [
        {
          "output_type": "stream",
          "text": [
            "1.0  |10>   \n",
            "1.0  |10>   \n"
          ],
          "name": "stdout"
        },
        {
          "output_type": "execute_result",
          "data": {
            "text/html": [
              "<pre style=\"word-wrap: normal;white-space: pre;line-height: 15px;\">         ┌────┐┌───┐\n",
              "q3_0: |0>┤ Id ├┤ X ├\n",
              "         └────┘└───┘\n",
              "q3_1: |0>───────────\n",
              "                    \n",
              " c3_0: 0 ═══════════\n",
              "                    \n",
              " c3_1: 0 ═══════════\n",
              "                    </pre>"
            ],
            "text/plain": [
              "<qiskit.visualization.text.TextDrawing at 0x1eaf16eecc0>"
            ]
          },
          "metadata": {
            "tags": []
          },
          "execution_count": 19
        }
      ]
    },
    {
      "cell_type": "markdown",
      "metadata": {
        "id": "WhhIUDgvcxIo"
      },
      "source": [
        "## Controlled-NOT Gate\n",
        "---\n",
        "\n",
        "The controlled-NOT functionality is described using this truth-table:\n",
        "\n",
        "| control in \t| target bit \t| control out \t| output \t|\n",
        "|------------\t|------------\t|-------------\t|--------\t|\n",
        "| 0          \t| 0          \t| 0           \t| 0      \t|\n",
        "| 0          \t| 1          \t| 0           \t| 1      \t|\n",
        "| 1          \t| 0          \t| 1           \t| 1      \t|\n",
        "| 1          \t| 1          \t| 1           \t| 0      \t|\n",
        "\n",
        "Example:\n",
        "\n",
        "CNOT  |00> ===> |00>  \n",
        "CNOT  |01> ===> |01>  \n",
        "CNOT  |10> ===> |11>  \n",
        "CNOT  |11> ===> |10>  "
      ]
    },
    {
      "cell_type": "code",
      "metadata": {
        "id": "CKd0z8hFcxIo",
        "outputId": "cf76b14a-94df-4be0-9133-08825463025c"
      },
      "source": [
        "#3- Controlled-NOT\n",
        "qc.cx(q[0],q[1])\n",
        "print(oq.Wavefunction(qc))\n",
        "qc.draw(output = \"mpl\")"
      ],
      "execution_count": null,
      "outputs": [
        {
          "output_type": "stream",
          "text": [
            "1.0  |11>   \n",
            "1.0  |11>   \n"
          ],
          "name": "stdout"
        },
        {
          "output_type": "execute_result",
          "data": {
            "text/html": [
              "<pre style=\"word-wrap: normal;white-space: pre;line-height: 15px;\">         ┌────┐┌───┐     \n",
              "q3_0: |0>┤ Id ├┤ X ├──■──\n",
              "         └────┘└───┘┌─┴─┐\n",
              "q3_1: |0>───────────┤ X ├\n",
              "                    └───┘\n",
              " c3_0: 0 ════════════════\n",
              "                         \n",
              " c3_1: 0 ════════════════\n",
              "                         </pre>"
            ],
            "text/plain": [
              "<qiskit.visualization.text.TextDrawing at 0x1eaf16dcf60>"
            ]
          },
          "metadata": {
            "tags": []
          },
          "execution_count": 20
        }
      ]
    },
    {
      "cell_type": "markdown",
      "metadata": {
        "id": "dp7rRFbDcxIs"
      },
      "source": [
        "## The Hadamard Gate\n",
        "---\n",
        "\n",
        "The Hadamard gate takes a qubit and returns an equal superposition of |0> and |1>."
      ]
    },
    {
      "cell_type": "code",
      "metadata": {
        "id": "Mx74F3vWcxIt",
        "outputId": "c5df5939-206f-4737-a4cc-cdb8b0a8f9a0"
      },
      "source": [
        "#4- Hadamard\n",
        "qc.h(q[1])\n",
        "print(oq.Wavefunction(qc))\n",
        "qc.draw(output = \"mpl\")"
      ],
      "execution_count": null,
      "outputs": [
        {
          "output_type": "stream",
          "text": [
            "0.70711  |10>   -0.70711  |11>   \n",
            "0.70711  |10>   -0.70711  |11>   \n"
          ],
          "name": "stdout"
        },
        {
          "output_type": "execute_result",
          "data": {
            "text/html": [
              "<pre style=\"word-wrap: normal;white-space: pre;line-height: 15px;\">         ┌────┐┌───┐          \n",
              "q3_0: |0>┤ Id ├┤ X ├──■───────\n",
              "         └────┘└───┘┌─┴─┐┌───┐\n",
              "q3_1: |0>───────────┤ X ├┤ H ├\n",
              "                    └───┘└───┘\n",
              " c3_0: 0 ═════════════════════\n",
              "                              \n",
              " c3_1: 0 ═════════════════════\n",
              "                              </pre>"
            ],
            "text/plain": [
              "<qiskit.visualization.text.TextDrawing at 0x1eaf0feaef0>"
            ]
          },
          "metadata": {
            "tags": []
          },
          "execution_count": 21
        }
      ]
    },
    {
      "cell_type": "markdown",
      "metadata": {
        "id": "Fur5HWyncxIx"
      },
      "source": [
        "### Quantum basis\n",
        "---\n",
        "\n",
        "|0> base is the zero state  \n",
        "|1> base is the one state  \n",
        "|+> base is the Hadamard of the |0> state  \n",
        "|-> base is the Hadamard of the |1> state  \n",
        "\n",
        "$$\n",
        "\\begin{array}{l}{|+\\rangle=\\frac{1}{\\sqrt{2}}(|0\\rangle+|1\\rangle)} \\\\ {|-\\rangle=\\frac{1}{\\sqrt{2}}(|0\\rangle-|1\\rangle)}\\end{array}$$"
      ]
    },
    {
      "cell_type": "markdown",
      "metadata": {
        "id": "AfVENoX7cxIy"
      },
      "source": [
        "## Phase Shift Gate\n",
        "---\n",
        "\n",
        "leaves a qubit’s |0> amplitude unchanged, while multiplying by a phase $$e^{i \\phi}$$ to a qubit’s |1>."
      ]
    },
    {
      "cell_type": "code",
      "metadata": {
        "id": "eE6pcJVOcxIy",
        "outputId": "b1fe460a-893b-40c6-eaf4-cafcdeba2d15"
      },
      "source": [
        "#5- Unitary\n",
        "qc.u1(m.pi/4, q[1])\n",
        "print(oq.Wavefunction(qc))\n",
        "qc.draw(output = \"mpl\")"
      ],
      "execution_count": null,
      "outputs": [
        {
          "output_type": "stream",
          "text": [
            "0.70711  |10>   -0.5-0.5j |11>   \n",
            "0.70711  |10>   -0.5-0.5j |11>   \n"
          ],
          "name": "stdout"
        },
        {
          "output_type": "execute_result",
          "data": {
            "text/html": [
              "<pre style=\"word-wrap: normal;white-space: pre;line-height: 15px;\">         ┌────┐┌───┐                        \n",
              "q3_0: |0>┤ Id ├┤ X ├──■─────────────────────\n",
              "         └────┘└───┘┌─┴─┐┌───┐┌────────────┐\n",
              "q3_1: |0>───────────┤ X ├┤ H ├┤ U1(0.7854) ├\n",
              "                    └───┘└───┘└────────────┘\n",
              " c3_0: 0 ═══════════════════════════════════\n",
              "                                            \n",
              " c3_1: 0 ═══════════════════════════════════\n",
              "                                            </pre>"
            ],
            "text/plain": [
              "<qiskit.visualization.text.TextDrawing at 0x1eaf16f4f60>"
            ]
          },
          "metadata": {
            "tags": []
          },
          "execution_count": 22
        }
      ]
    },
    {
      "cell_type": "markdown",
      "metadata": {
        "id": "mNAmQghOcxI2"
      },
      "source": [
        "Phew...\n",
        "\n",
        "That was a lot!!"
      ]
    },
    {
      "cell_type": "markdown",
      "metadata": {
        "id": "MD5OWoY0cxI3"
      },
      "source": [
        "# Quantum Communication\n",
        "---\n",
        "\n",
        "Let's assume we have two people, Alice and Bob. Alice wants to send a qubit to Bob. How can she do that?\n",
        "\n",
        "\n",
        "Alice's qubit is in an unknown quantum state |$\\varphi$> = $\\alpha$|0> + $\\beta$|1>\n"
      ]
    },
    {
      "cell_type": "markdown",
      "metadata": {
        "id": "TjZyz6O5cxI3"
      },
      "source": [
        "## No Clone Theorem\n",
        "---\n",
        "\n",
        "In quantum physics, the no-cloning theorem states that it is impossible to create an identical copy of an arbitrary unknown quantum state (unmeasured state)\n"
      ]
    },
    {
      "cell_type": "markdown",
      "metadata": {
        "id": "3IbBLLAtcxI4"
      },
      "source": [
        "But, if Alice can not copy her qubit and send it to Bob, what can she do??"
      ]
    },
    {
      "cell_type": "markdown",
      "metadata": {
        "id": "qfJi8S6dcxI4"
      },
      "source": [
        "## Copying a qubit\n",
        "----\n",
        "\n",
        "If a qubit's state is known (already measured)  \n",
        "Can we copy it?  \n"
      ]
    },
    {
      "cell_type": "markdown",
      "metadata": {
        "id": "zGePSlCAcxI5"
      },
      "source": [
        "## YES WE CAN!"
      ]
    },
    {
      "cell_type": "markdown",
      "metadata": {
        "id": "Elx_wkywcxI5"
      },
      "source": [
        "But how can we do that??"
      ]
    },
    {
      "cell_type": "code",
      "metadata": {
        "id": "3YVeSzr9cxI6",
        "outputId": "d1f6fc87-ed03-412e-dd5c-5b63cfaad53d"
      },
      "source": [
        "%%javascript \n",
        "Jupyter.notebook.execute_cells([10])"
      ],
      "execution_count": null,
      "outputs": [
        {
          "output_type": "display_data",
          "data": {
            "application/javascript": [
              "Jupyter.notebook.execute_cells([10])\n"
            ],
            "text/plain": [
              "<IPython.core.display.Javascript object>"
            ]
          },
          "metadata": {
            "tags": []
          }
        }
      ]
    },
    {
      "cell_type": "code",
      "metadata": {
        "id": "5rlrQnFecxI9",
        "outputId": "c33dbab7-49aa-4f73-bfea-7b07a868803b"
      },
      "source": [
        "#This code snippets demonstrate the process of copying a known state of a qubit |+>\n",
        "# Create an initial superposition |+> state\n",
        "qc.h(q[0])\n",
        "# Take the qubit out of superposition\n",
        "qc.h(q[0])\n",
        "# Perform a CNOT between the qubits\n",
        "qc.cx(q[0], q[1])\n",
        "# Put the qubits into superposition and now the states are the same\n",
        "qc.h(q[0])\n",
        "qc.h(q[1])\n",
        "#Execute the circuit\n",
        "qc.measure(q,c)\n",
        "M = execute(qc, S_simulator).result().get_counts(qc)\n",
        "#Display the qubits after the copy\n",
        "oq.Wavefunction(qc)\n",
        "oq.Measurement(qc, shots=1024)\n",
        "#Draws the circuit\n",
        "qc.draw() "
      ],
      "execution_count": null,
      "outputs": [
        {
          "output_type": "stream",
          "text": [
            "0.92388+0.38268j |11>   \n"
          ],
          "name": "stdout"
        },
        {
          "output_type": "execute_result",
          "data": {
            "text/html": [
              "<pre style=\"word-wrap: normal;white-space: pre;line-height: 15px;\">         ┌────┐┌───┐     ┌───┐    ┌───┐          ┌───┐┌─┐   \n",
              "q3_0: |0>┤ Id ├┤ X ├──■──┤ H ├────┤ H ├───────■──┤ H ├┤M├───\n",
              "         └────┘└───┘┌─┴─┐├───┤┌───┴───┴────┐┌─┴─┐├───┤└╥┘┌─┐\n",
              "q3_1: |0>───────────┤ X ├┤ H ├┤ U1(0.7854) ├┤ X ├┤ H ├─╫─┤M├\n",
              "                    └───┘└───┘└────────────┘└───┘└───┘ ║ └╥┘\n",
              " c3_0: 0 ══════════════════════════════════════════════╩══╬═\n",
              "                                                          ║ \n",
              " c3_1: 0 ═════════════════════════════════════════════════╩═\n",
              "                                                            </pre>"
            ],
            "text/plain": [
              "<qiskit.visualization.text.TextDrawing at 0x1eaf13c7be0>"
            ]
          },
          "metadata": {
            "tags": []
          },
          "execution_count": 24
        }
      ]
    },
    {
      "cell_type": "markdown",
      "metadata": {
        "id": "jXg6oGw-cxJA"
      },
      "source": [
        " We know that the two superposition states |+⟩ or |−⟩ must have been generated from either the |0⟩ or |1⟩ basis states. So, this means that if we were to take our qubit that was in the |+⟩ or |−⟩ state out of superposition, then the qubit would be in either the |0⟩ or |1⟩ basis state."
      ]
    },
    {
      "cell_type": "code",
      "metadata": {
        "id": "csSGVx_hcxJB",
        "outputId": "4d87509e-1b59-4aef-d74e-4c7845f93931"
      },
      "source": [
        "%%javascript \n",
        "Jupyter.notebook.execute_cells([7])"
      ],
      "execution_count": null,
      "outputs": [
        {
          "output_type": "display_data",
          "data": {
            "application/javascript": [
              "Jupyter.notebook.execute_cells([7])\n"
            ],
            "text/plain": [
              "<IPython.core.display.Javascript object>"
            ]
          },
          "metadata": {
            "tags": []
          }
        }
      ]
    },
    {
      "cell_type": "code",
      "metadata": {
        "id": "lE2oN9dKcxJF",
        "outputId": "8de710f8-81ff-42eb-8b91-f85349254c69"
      },
      "source": [
        "#This code snippet demonstrates communicating a qubit between two parties\n",
        "# Prepare an initial state for qubit 1 using a single unitary\n",
        "#qc.u1(0.5, q[0])\n",
        "# Perform a CNOT between qubit 1 and qubit 2\n",
        "qc.cx(q[0], q[1])\n",
        "# Measure qubit 1 in the |+>, |-> basis\n",
        "qc.h(q[0])\n",
        "qc.measure(q[0], c[0])\n",
        "# If needed Perform a phase correction to qubit 2\n",
        "if c[0] == 1:\n",
        "    qc.z(q[1])\n",
        "qc.draw(output = \"mpl\")"
      ],
      "execution_count": null,
      "outputs": [
        {
          "output_type": "execute_result",
          "data": {
            "text/html": [
              "<pre style=\"word-wrap: normal;white-space: pre;line-height: 15px;\">         ┌────┐┌───┐     ┌───┐    ┌───┐          ┌───┐┌─┐        ┌───┐┌─┐\n",
              "q3_0: |0>┤ Id ├┤ X ├──■──┤ H ├────┤ H ├───────■──┤ H ├┤M├─────■──┤ H ├┤M├\n",
              "         └────┘└───┘┌─┴─┐├───┤┌───┴───┴────┐┌─┴─┐├───┤└╥┘┌─┐┌─┴─┐└───┘└╥┘\n",
              "q3_1: |0>───────────┤ X ├┤ H ├┤ U1(0.7854) ├┤ X ├┤ H ├─╫─┤M├┤ X ├──────╫─\n",
              "                    └───┘└───┘└────────────┘└───┘└───┘ ║ └╥┘└───┘      ║ \n",
              " c3_0: 0 ══════════════════════════════════════════════╩══╬════════════╩═\n",
              "                                                          ║              \n",
              " c3_1: 0 ═════════════════════════════════════════════════╩══════════════\n",
              "                                                                         </pre>"
            ],
            "text/plain": [
              "<qiskit.visualization.text.TextDrawing at 0x1eaf16e84e0>"
            ]
          },
          "metadata": {
            "tags": []
          },
          "execution_count": 26
        }
      ]
    },
    {
      "cell_type": "markdown",
      "metadata": {
        "id": "HAOqQGdQcxJI"
      },
      "source": [
        "# Quantum Teleportation\n",
        "---\n",
        "\n",
        "## Revision\n",
        "---\n",
        "\n",
        "1- Qubits can be entagelment regardless of physical distance between them.  \n",
        "2- The entagelment breaks if one of the qubits is measured.  \n",
        "3- Qubits in arbitrary state can not be cloned.  \n",
        "4- A qubit with a known state can be copied.  "
      ]
    },
    {
      "cell_type": "markdown",
      "metadata": {
        "id": "ajGUG1sJcxJJ"
      },
      "source": [
        "Alice would like to send Bob a qubit that is in some unknown state *but* Alice cannot directly clone the qubit, because of the “No Cloning Theorem”!!  \n",
        "\n",
        "So, how can she send it??\n",
        "\n",
        "\n",
        "Alice prepares a pair of entangled qubits and sends one to Bob.\n",
        "\n",
        "$$\n",
        "|\\psi\\rangle=(\\alpha|0\\rangle+\\beta|1\\rangle)\n",
        "$$\n",
        "\n",
        "$$\n",
        "\\frac{1}{\\sqrt{2}}(|00\\rangle+|11\\rangle)\n",
        "$$"
      ]
    },
    {
      "cell_type": "code",
      "metadata": {
        "id": "Rz2OkpBccxJJ",
        "outputId": "a7f6ef92-ca09-4f80-d1b6-9048c50b64c9"
      },
      "source": [
        "#Code of Equation (3) and (4)\n",
        "# Create a Quantum Register and classical registers with 3 qubits and 3 classical bits.\n",
        "q = QuantumRegister(3)\n",
        "c = ClassicalRegister(3)\n",
        "qc = QuantumCircuit(q, c)\n",
        "\n",
        "# Prepare an initial state using a single unitary\n",
        "qc.u1(0.5, q[0])\n",
        "\n",
        " # Prepare an entangled pair using qubit ② and qubit ③\n",
        "qc.h(q[1])\n",
        "qc.cx(q[1], q[2])\n",
        "oq.Wavefunction(qc)\n",
        "# Barrier to prevent gate reordering for optimization\n",
        "qc.barrier(q)"
      ],
      "execution_count": null,
      "outputs": [
        {
          "output_type": "stream",
          "text": [
            "0.70711  |000>   0.70711  |011>   \n"
          ],
          "name": "stdout"
        },
        {
          "output_type": "execute_result",
          "data": {
            "text/plain": [
              "<qiskit.extensions.standard.barrier.Barrier at 0x1eaf16dc7b8>"
            ]
          },
          "metadata": {
            "tags": []
          },
          "execution_count": 27
        }
      ]
    },
    {
      "cell_type": "markdown",
      "metadata": {
        "id": "jYeZJ81GcxJM"
      },
      "source": [
        "The state of the three qubits now is:\n",
        "\n",
        "$$\n",
        "\\frac{1}{\\sqrt{2}}\\left[\\begin{array}{c}{\\alpha|0\\rangle(|00\\rangle+|11\\rangle)+} \\\\ {\\beta|1\\rangle(|00\\rangle+|11\\rangle)}\\end{array}\\right]\n",
        "$$\n",
        "\n",
        "Just like we mentioned in quantum communication, we now apply a *CNOT* gate to the system, between the qubit Alice wants to teleport and the one entageled with Bob's.\n",
        "\n",
        "$$\n",
        "\\frac{1}{\\sqrt{2}}\\left[\\begin{array}{c}{\\alpha|0\\rangle(|00\\rangle+|11\\rangle)+} \\\\ {\\beta|1\\rangle(|10\\rangle+|01\\rangle)}\\end{array}\\right]\n",
        "$$"
      ]
    },
    {
      "cell_type": "markdown",
      "metadata": {
        "id": "YD03ODktcxJN"
      },
      "source": [
        "Alice go ahead and measures the result, giving her 1 or 0.\n",
        "\n",
        "How is this information helpful?"
      ]
    },
    {
      "cell_type": "markdown",
      "metadata": {
        "id": "IVwzyoTAcxJN"
      },
      "source": [
        "The result means that the remaining states are:\n",
        "\n",
        "$$\n",
        "0 {\\longrightarrow} \\alpha|00\\rangle+\\beta|11\\rangle\n",
        "$$\n",
        "\n",
        "*OR*\n",
        "\n",
        "$$\n",
        "1 {\\longrightarrow} \\alpha|01\\rangle+\\beta|10\\rangle\n",
        "$$\n",
        "\n",
        "At this point Alice writes this measurement down and tells Bob what she measured. Both Alice and Bob know that they can flip the state using the X gate."
      ]
    },
    {
      "cell_type": "code",
      "metadata": {
        "id": "q1IbqZ5KcxJO"
      },
      "source": [
        "#Code for the prvious cell\n",
        "# Perform a CNOT between qubit (1) and qubit (2)\n",
        "qc.cx(q[0], q[1])\n",
        "\n",
        "# Measure qubit (2) in the computational basis\n",
        "qc.measure(q[1], c[1])\n",
        "\n",
        "# Measure qubit (1) in the |+> and |-> basis\n",
        "qc.h(q[0])\n",
        "qc.measure(q[0], c[0])\n",
        "\n",
        "# If needed Perform a bit flip correction to qubit (3)\n",
        "if c[1] == 1:\n",
        "    qc.x(q[2])"
      ],
      "execution_count": null,
      "outputs": []
    },
    {
      "cell_type": "markdown",
      "metadata": {
        "id": "tymA_mEwcxJQ"
      },
      "source": [
        "The next thing that Alice does is to perform a *Hadamard* transformation on her original qubit so that she can tell Bob if he needs to perform a phase flip on his qubit or not. \n",
        "\n",
        "Alice now performs a _*measurement*_ after applying the Hadamard gate which enables her to measure a 0 when the qubit is |+> and 1 when the qubit is |−>, she then send the results of this measurement to Bob. "
      ]
    },
    {
      "cell_type": "code",
      "metadata": {
        "id": "2nDdDdMScxJT"
      },
      "source": [
        "# Measure qubit (1) in the |+> and |-> basis\n",
        "qc.h(q[0])\n",
        "qc.measure(q[0], c[0])\n",
        "\n",
        "# If needed Perform a bit flip correction to qubit (3)\n",
        "if c[1] == 1:\n",
        "    qc.x(q[2])"
      ],
      "execution_count": null,
      "outputs": []
    },
    {
      "cell_type": "markdown",
      "metadata": {
        "id": "1nhPoXG9cxJW"
      },
      "source": [
        "## Viola!! Alice's initial qubit is now teleported to Bob!"
      ]
    },
    {
      "cell_type": "markdown",
      "metadata": {
        "id": "6WR7lizjcxJX"
      },
      "source": [
        "<img src=\"https://github.com/SaraM92/Teleportation/blob/main/Pictures/but-wait.png?raw=1\">"
      ]
    },
    {
      "cell_type": "markdown",
      "metadata": {
        "id": "RgxFpco8cxJY"
      },
      "source": [
        "*Although* we _DID_ telport a qubit from Alice to Bob, Alice and Bob did not communicate *faster* than the speed of light!!\n",
        "\n",
        "Alice needed to share her measurement with Bob through some classical channel which is _not_ faster than light!\n",
        "\n",
        "Alice ended up destroying her qubit in the process of sending it to Bob.\n"
      ]
    },
    {
      "cell_type": "markdown",
      "metadata": {
        "id": "pqwuW2l9cxJY"
      },
      "source": [
        "<img src=\"https://github.com/SaraM92/Teleportation/blob/main/Pictures/qus.png?raw=1\">"
      ]
    },
    {
      "cell_type": "code",
      "metadata": {
        "id": "OkOUNJZkcxJZ",
        "outputId": "6a6f39eb-418c-4c02-836b-2cf7d7cce54d"
      },
      "source": [
        "#The complete code for teleportation\n",
        "# Create a Quantum Register and classical registers with 3 qubits and 3 classical bits.\n",
        "q = QuantumRegister(3)\n",
        "c = ClassicalRegister(3)\n",
        "qc = QuantumCircuit(q, c)\n",
        "\n",
        "# Prepare an initial state using a single unitary\n",
        "qc.u1(0.5, q[0])\n",
        "\n",
        " # Prepare an entangled pair using qubit (2) and qubit (3)\n",
        "qc.h(q[1])\n",
        "qc.cx(q[1], q[2])\n",
        "oq.Wavefunction(qc)\n",
        "# Barrier to prevent gate reordering for optimization\n",
        "qc.barrier(q)\n",
        "\n",
        "# Perform a CNOT between qubit (1) and qubit (2)\n",
        "qc.cx(q[0], q[1])\n",
        "\n",
        "# Measure qubit (2) in the computational basis\n",
        "qc.measure(q[1], c[1])\n",
        "\n",
        "# Measure qubit (1) in the |+> and |-> basis\n",
        "qc.h(q[0])\n",
        "qc.measure(q[0], c[0])\n",
        "\n",
        "# If needed Perform a phase correction to qubit (3)\n",
        "if c[0] == 1:\n",
        "    qc.z(q[2])\n",
        "\n",
        "# If needed Perform a bit flip correction to qubit (3)\n",
        "if c[1] == 1:\n",
        "    qc.x(q[2])\n",
        "\n",
        "\n",
        "qc.measure(q[2], c[2])\n",
        "\n",
        "\n",
        "# Compile and run the Quantum circuit on a simulator backend\n",
        "job_sim = execute(qc, Q_simulator)\n",
        "sim_result = job_sim.result()\n",
        "#print(sim_result)\n",
        "print(\"-------------------------------------------------------------------------------\")\n",
        "print(sim_result.get_counts(qc))\n",
        "print(\"===============================================================================\")\n",
        "oq.Wavefunction(qc)\n",
        "qc.draw(output = \"mpl\")"
      ],
      "execution_count": null,
      "outputs": [
        {
          "output_type": "stream",
          "text": [
            "0.70711  |000>   0.70711  |011>   \n"
          ],
          "name": "stdout"
        },
        {
          "output_type": "error",
          "ename": "NameError",
          "evalue": "name 'M_simulator' is not defined",
          "traceback": [
            "\u001b[1;31m---------------------------------------------------------------------------\u001b[0m",
            "\u001b[1;31mNameError\u001b[0m                                 Traceback (most recent call last)",
            "\u001b[1;32m<ipython-input-30-7098c870db5f>\u001b[0m in \u001b[0;36m<module>\u001b[1;34m\u001b[0m\n\u001b[0;32m     38\u001b[0m \u001b[1;33m\u001b[0m\u001b[0m\n\u001b[0;32m     39\u001b[0m \u001b[1;31m# Compile and run the Quantum circuit on a simulator backend\u001b[0m\u001b[1;33m\u001b[0m\u001b[1;33m\u001b[0m\u001b[1;33m\u001b[0m\u001b[0m\n\u001b[1;32m---> 40\u001b[1;33m \u001b[0mjob_sim\u001b[0m \u001b[1;33m=\u001b[0m \u001b[0mexecute\u001b[0m\u001b[1;33m(\u001b[0m\u001b[0mqc\u001b[0m\u001b[1;33m,\u001b[0m \u001b[0mM_simulator\u001b[0m\u001b[1;33m)\u001b[0m\u001b[1;33m\u001b[0m\u001b[1;33m\u001b[0m\u001b[0m\n\u001b[0m\u001b[0;32m     41\u001b[0m \u001b[0msim_result\u001b[0m \u001b[1;33m=\u001b[0m \u001b[0mjob_sim\u001b[0m\u001b[1;33m.\u001b[0m\u001b[0mresult\u001b[0m\u001b[1;33m(\u001b[0m\u001b[1;33m)\u001b[0m\u001b[1;33m\u001b[0m\u001b[1;33m\u001b[0m\u001b[0m\n\u001b[0;32m     42\u001b[0m \u001b[1;31m#print(sim_result)\u001b[0m\u001b[1;33m\u001b[0m\u001b[1;33m\u001b[0m\u001b[1;33m\u001b[0m\u001b[0m\n",
            "\u001b[1;31mNameError\u001b[0m: name 'M_simulator' is not defined"
          ]
        }
      ]
    },
    {
      "cell_type": "markdown",
      "metadata": {
        "id": "pz1qplILcxJc"
      },
      "source": [
        "## References:\n",
        "---\n",
        "1. Qiskit. “Qiskit/Qiskit-Tutorials.” GitHub, 20 July 2019, github.com/Qiskit/qiskit-tutorials.\n",
        "2. Koch, Daniel, Laura Wessing, and Paul M. Alsing. \"Introduction to Coding Quantum Algorithms: A Tutorial Series Using Pyquil.\" arXiv preprint arXiv:1903.05195 (2019).\n",
        "3. stevenatkin. “Untangling Quantum Teleportation.” Medium, Qiskit, 24 July 2018, medium.com/qiskit/untangling-quantum-teleportation-919cbd673074.\n",
        "4. All pictures used are from Google image search\n"
      ]
    }
  ]
}