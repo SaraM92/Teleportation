{
 "cells": [
  {
   "cell_type": "markdown",
   "metadata": {
    "slideshow": {
     "slide_type": "slide"
    }
   },
   "source": [
    "# Programming Quantum Teleportation\n",
    "\n",
    "Sara A. Metwalli\n",
    "\n",
    "Keio University"
   ]
  },
  {
   "cell_type": "markdown",
   "metadata": {
    "slideshow": {
     "slide_type": "slide"
    }
   },
   "source": [
    "# About Me\n",
    "---\n",
    "\n",
    "Sara Ayman Metwalli  \n",
    "I am 27 years old from Egypt  \n",
    "Bachelor Degree in Communications and Electronics Engineering in 2014 and Masters Degree in Computer and Communications Engineering from Tokyo Institute of Technology in 2018.  \n",
    "\n",
    "Now, I work with AQUA (Advancing QUantum Architecture) group in Keio University as a researcher.\n",
    "\n",
    "For more information about me: https://sara-ayman-metwalli.jimdosite.com  \n",
    "For more information about AQUA: http://aqua.sfc.wide.ad.jp/home.html"
   ]
  },
  {
   "cell_type": "markdown",
   "metadata": {
    "slideshow": {
     "slide_type": "slide"
    }
   },
   "source": [
    "## Today we will talk about Teleportation!!!!"
   ]
  },
  {
   "cell_type": "markdown",
   "metadata": {
    "slideshow": {
     "slide_type": "slide"
    }
   },
   "source": [
    "# No, not the one you are thinking about!\n",
    "\n",
    "<img src=\"Pictures/tele.jpg\">"
   ]
  },
  {
   "cell_type": "markdown",
   "metadata": {
    "slideshow": {
     "slide_type": "slide"
    }
   },
   "source": [
    "# Introduction\n",
    "---------------------\n",
    "\n",
    "Quantum teleportation is one of the practical applications of quantum physics that can be implemented using quantum computers.\n",
    "\n",
    "Before we get into what is quantum teleportation, or how to implement it in code.\n",
    "\n",
    "Let's first discuss what is \"Quantum\" ?\n"
   ]
  },
  {
   "cell_type": "markdown",
   "metadata": {
    "slideshow": {
     "slide_type": "slide"
    }
   },
   "source": [
    "# What is \"Quantum Computing\"?\n",
    "----------\n",
    "Quantum computing is the use of quantum-mechanical phenomena such as superposition and entanglement to perform computation.\n",
    "\n",
    "\n",
    "What is entanglement? and what does superposition mean?\n",
    "\n",
    "\n",
    "To explain these important concepts, we first need to understand what is a \"Qubit\"\n",
    "\n",
    "<img src=\"Pictures/thinking_man.jpg\">"
   ]
  },
  {
   "cell_type": "markdown",
   "metadata": {
    "slideshow": {
     "slide_type": "slide"
    }
   },
   "source": [
    "## Quantum Bits (Qubits)\n",
    "---\n",
    "<img src=\"Pictures/Meduim Images/August Articles/qubit.jpeg\">\n",
    "\n",
    "Qubits to quantum computers are the same as bits for classical computers\n",
    "\n",
    "Qubits are the simplest version of a mechanical system used as the base of quantum computers. \n",
    "\n",
    "How qubits interact together follows the laws of quantum theory. The two most important aspects of that are superposition and entanglement. "
   ]
  },
  {
   "cell_type": "markdown",
   "metadata": {
    "slideshow": {
     "slide_type": "slide"
    }
   },
   "source": [
    "## Quantum Entanglement\n",
    "---\n",
    "<img src=\"Pictures/Meduim Images/August Articles/int.png\">\n",
    "\n",
    "Particles (atoms, ions) that have interacted at some point in time retain a  connection and can be entangled with each other as a *pair*. \n",
    "\n",
    "Knowing the spin state of one entangled particle allows one to know that the spin of its entangled particle is in the opposite direction."
   ]
  },
  {
   "cell_type": "markdown",
   "metadata": {
    "slideshow": {
     "slide_type": "slide"
    }
   },
   "source": [
    "## Quantum Superposition\n",
    "---\n",
    "<img src=\"Pictures/Meduim Images/August Articles/cat.png\">\n",
    "\n",
    "\n",
    "Imagine the qubit as an electron in a magnetic field. The electron's spin may be either in alignment with the field, which is known as a spin-up state, or opposite to the field, which is known as a spin-down state. \n",
    "\n",
    "According to quantum law, the particle then enters a superposition of states, in which it behaves as if it were in both states simultaneously and it stays in that states until it is measured.\n"
   ]
  },
  {
   "cell_type": "markdown",
   "metadata": {
    "slideshow": {
     "slide_type": "slide"
    }
   },
   "source": [
    "## Coding Break\n",
    "---\n",
    "\n",
    "How can we represent qubits in code?\n",
    "\n",
    "Use the Python *Qiskit* Module."
   ]
  },
  {
   "cell_type": "code",
   "execution_count": null,
   "metadata": {
    "slideshow": {
     "slide_type": "fragment"
    }
   },
   "outputs": [],
   "source": [
    "!pip install qiskit\n",
    "!pip install numpy\n",
    "!pip install matplotlib"
   ]
  },
  {
   "cell_type": "code",
   "execution_count": 8,
   "metadata": {
    "slideshow": {
     "slide_type": "fragment"
    }
   },
   "outputs": [],
   "source": [
    "#Codes in this notebook are inspired by IBM's Qiskit tutorials and the arXiv:1903.04359v1 paper\n",
    "#This code is written by: Sara A. Metwalli for the Woman Who Code CONNECT Asia Summit 2019\n",
    "\n",
    "#Libraries needed to implement and simulate quantum circuits\n",
    "from qiskit import QuantumRegister, ClassicalRegister, QuantumCircuit, Aer, execute \n",
    "import math as m\n",
    "import warnings\n",
    "#Custem functions to simplify answers\n",
    "import Our_Qiskit_Functions as oq #a part of the libabry presented in arXiv:1903.04359v1.\n",
    "%matplotlib inline\n",
    "warnings.filterwarnings(\"ignore\", category=UserWarning)\n",
    "\n",
    "#Initialize backends simulators to visualize circuits\n",
    "S_simulator = Aer.backends(name='statevector_simulator')[0]\n",
    "M_simulator = Aer.backends(name='qasm_simulator')[0]\n",
    "\n",
    "#Create quantum registers (to hold qubits)\n",
    "q = QuantumRegister(2)\n",
    "#Classical register to hold classical bits (Used to measure results)\n",
    "c = ClassicalRegister(2)\n",
    "#Create a quantum circuit using the above registers\n",
    "qc = QuantumCircuit(q,c)"
   ]
  },
  {
   "cell_type": "markdown",
   "metadata": {
    "slideshow": {
     "slide_type": "slide"
    }
   },
   "source": [
    "# Quantum Gates\n",
    "---\n",
    "\n",
    "Programing quantum computers is now done on a gate level, similar to classical gates.\n",
    "\n",
    "Now\n",
    "\n",
    "Let's talk about most common quantum gates"
   ]
  },
  {
   "cell_type": "markdown",
   "metadata": {
    "slideshow": {
     "slide_type": "slide"
    }
   },
   "source": [
    "## Identity Operator\n",
    "---\n",
    "<img src=\"Pictures/Meduim Images/July Articles/the-I-gate.gif\">\n",
    "\n",
    "The identity operator leaves the state unchanged, it is mostly used to initialize qubits to zero.\n",
    "\n",
    "| input     | output  |\n",
    "|---------  |-------  |\n",
    "| 0         | 0       |\n",
    "| 1         | 1       |\n"
   ]
  },
  {
   "cell_type": "code",
   "execution_count": 9,
   "metadata": {
    "slideshow": {
     "slide_type": "fragment"
    }
   },
   "outputs": [
    {
     "name": "stdout",
     "output_type": "stream",
     "text": [
      "1.0  |00>   \n",
      "1.0  |00>   \n"
     ]
    },
    {
     "data": {
      "image/png": "[encoded data removed]",
      "text/plain": [
       "<Figure size 249.228x204.68 with 1 Axes>"
      ]
     },
     "execution_count": 9,
     "metadata": {},
     "output_type": "execute_result"
    }
   ],
   "source": [
    "#1- Iden operator\n",
    "qc.i(q[0])\n",
    "print(oq.Wavefunction(qc))\n",
    "qc.draw(output = \"mpl\")"
   ]
  },
  {
   "cell_type": "markdown",
   "metadata": {
    "slideshow": {
     "slide_type": "slide"
    }
   },
   "source": [
    "## NOT Gate\n",
    "---\n",
    "<img src=\"Pictures/Meduim Images/July Articles/the-not-gate.gif\">\n",
    "\n",
    "The NOT gate takes a qubits and flips its state!\n",
    "\n",
    "| input   | output|\n",
    "|---------|-------|\n",
    "| 0       | 1     |\n",
    "| 1       | 0     |\n"
   ]
  },
  {
   "cell_type": "code",
   "execution_count": 10,
   "metadata": {
    "slideshow": {
     "slide_type": "fragment"
    }
   },
   "outputs": [
    {
     "name": "stdout",
     "output_type": "stream",
     "text": [
      "1.0  |10>   \n",
      "1.0  |10>   \n"
     ]
    },
    {
     "data": {
      "image/png": "[encoded data removed]",
      "text/plain": [
       "<Figure size 309.428x204.68 with 1 Axes>"
      ]
     },
     "execution_count": 10,
     "metadata": {},
     "output_type": "execute_result"
    }
   ],
   "source": [
    "#2- NOT gate\n",
    "qc.x(q[0])\n",
    "print(oq.Wavefunction(qc))\n",
    "qc.draw(output = \"mpl\")"
   ]
  },
  {
   "cell_type": "markdown",
   "metadata": {
    "slideshow": {
     "slide_type": "slide"
    }
   },
   "source": [
    "## Controlled-NOT Gate (Toffoli Gate)\n",
    "---\n",
    "<img src=\"Pictures/Meduim Images/July Articles/the-cnot-gate.gif\">\n",
    "\n",
    "The controlled-NOT functionality is described using this truth-table:\n",
    "\n",
    "| control in \t| target bit \t| control out \t| output \t|\n",
    "|------------\t|------------\t|-------------\t|--------\t|\n",
    "| 0          \t| 0          \t| 0           \t| 0      \t|\n",
    "| 0          \t| 1          \t| 0           \t| 1      \t|\n",
    "| 1          \t| 0          \t| 1           \t| 1      \t|\n",
    "| 1          \t| 1          \t| 1           \t| 0      \t|\n",
    "\n",
    "Example:\n",
    "\n",
    "CNOT  |00> ===> |00>  \n",
    "CNOT  |01> ===> |01>  \n",
    "CNOT  |10> ===> |11>  \n",
    "CNOT  |11> ===> |10>  "
   ]
  },
  {
   "cell_type": "code",
   "execution_count": 11,
   "metadata": {
    "slideshow": {
     "slide_type": "fragment"
    }
   },
   "outputs": [
    {
     "name": "stdout",
     "output_type": "stream",
     "text": [
      "1.0  |11>   \n",
      "1.0  |11>   \n"
     ]
    },
    {
     "data": {
      "image/png": "[encoded data removed]",
      "text/plain": [
       "<Figure size 369.628x204.68 with 1 Axes>"
      ]
     },
     "execution_count": 11,
     "metadata": {},
     "output_type": "execute_result"
    }
   ],
   "source": [
    "#3- Controlled-NOT\n",
    "qc.cx(q[0],q[1])\n",
    "print(oq.Wavefunction(qc))\n",
    "qc.draw(output = \"mpl\")"
   ]
  },
  {
   "cell_type": "markdown",
   "metadata": {
    "slideshow": {
     "slide_type": "slide"
    }
   },
   "source": [
    "## The Hadamard Gate\n",
    "---\n",
    "<img src=\"Pictures/Meduim Images/July Articles/the-h-gate.gif\">\n",
    "\n",
    "The Hadamard gate (H) is the magic gate. It is the gate responsible for creating the superposition of states. This gate puts the qubit in 50/50 superposition of states |0⟩ and |1⟩ despite whether the input state was |0⟩ or|1⟩.\n",
    "\n"
   ]
  },
  {
   "cell_type": "code",
   "execution_count": 12,
   "metadata": {
    "slideshow": {
     "slide_type": "fragment"
    }
   },
   "outputs": [
    {
     "name": "stdout",
     "output_type": "stream",
     "text": [
      "0.70711  |10>   -0.70711  |11>   \n",
      "0.70711  |10>   -0.70711  |11>   \n"
     ]
    },
    {
     "data": {
      "image/png": "[encoded data removed]",
      "text/plain": [
       "<Figure size 429.828x204.68 with 1 Axes>"
      ]
     },
     "execution_count": 12,
     "metadata": {},
     "output_type": "execute_result"
    }
   ],
   "source": [
    "#4- Hadamard\n",
    "qc.h(q[1])\n",
    "print(oq.Wavefunction(qc))\n",
    "qc.draw(output = \"mpl\")"
   ]
  },
  {
   "cell_type": "markdown",
   "metadata": {
    "slideshow": {
     "slide_type": "slide"
    }
   },
   "source": [
    "## Phase Shift Gate\n",
    "---\n",
    "\n",
    "leaves a qubit’s |0> amplitude unchanged, while multiplying by a phase $$e^{i \\phi}$$ to a qubit’s |1>."
   ]
  },
  {
   "cell_type": "code",
   "execution_count": 13,
   "metadata": {
    "slideshow": {
     "slide_type": "fragment"
    }
   },
   "outputs": [
    {
     "name": "stdout",
     "output_type": "stream",
     "text": [
      "0.70711  |10>   -0.5-0.5j |11>   \n",
      "0.70711  |10>   -0.5-0.5j |11>   \n"
     ]
    },
    {
     "data": {
      "image/png": "[encoded data removed]",
      "text/plain": [
       "<Figure size 490.028x204.68 with 1 Axes>"
      ]
     },
     "execution_count": 13,
     "metadata": {},
     "output_type": "execute_result"
    }
   ],
   "source": [
    "#5- Unitary\n",
    "qc.u1(m.pi/4, q[1])\n",
    "print(oq.Wavefunction(qc))\n",
    "qc.draw(output = \"mpl\")"
   ]
  },
  {
   "cell_type": "markdown",
   "metadata": {
    "slideshow": {
     "slide_type": "slide"
    }
   },
   "source": [
    "Phew...\n",
    "\n",
    "That was a lot!!"
   ]
  },
  {
   "cell_type": "markdown",
   "metadata": {
    "slideshow": {
     "slide_type": "slide"
    }
   },
   "source": [
    "# Quantum Communication\n",
    "---\n",
    "\n",
    "Let's assume we have two people, Alice and Bob. Alice wants to send a qubit to Bob. How can she do that?\n",
    "\n",
    "\n",
    "Alice's qubit is in an unknown quantum state |$\\varphi$> = $\\alpha$|0> + $\\beta$|1>\n"
   ]
  },
  {
   "cell_type": "markdown",
   "metadata": {
    "slideshow": {
     "slide_type": "slide"
    }
   },
   "source": [
    "## Quantum basis\n",
    "---\n",
    "\n",
    "|0> base is the zero state  \n",
    "|1> base is the one state  \n",
    "|+> base is the Hadamard of the |0> state  \n",
    "|-> base is the Hadamard of the |1> state  \n",
    "\n",
    "\n",
    "<img src=\"Pictures/Meduim Images/July Articles/Quantum Simulators/5.png\">"
   ]
  },
  {
   "cell_type": "markdown",
   "metadata": {
    "slideshow": {
     "slide_type": "slide"
    }
   },
   "source": [
    "## No Clone Theorem\n",
    "---\n",
    "\n",
    "In quantum physics, the no-cloning theorem states that it is impossible to create an identical copy of an arbitrary unknown quantum state.\n"
   ]
  },
  {
   "cell_type": "markdown",
   "metadata": {
    "slideshow": {
     "slide_type": "subslide"
    }
   },
   "source": [
    "But, if Alice can not copy her qubit and send it to Bob, what can she do??"
   ]
  },
  {
   "cell_type": "markdown",
   "metadata": {
    "slideshow": {
     "slide_type": "slide"
    }
   },
   "source": [
    "## Copying a qubit\n",
    "----\n",
    "\n",
    "If a qubit's state is known (already measured) it can be copied into another qubit."
   ]
  },
  {
   "cell_type": "markdown",
   "metadata": {
    "slideshow": {
     "slide_type": "fragment"
    }
   },
   "source": [
    "But how can we do that??"
   ]
  },
  {
   "cell_type": "markdown",
   "metadata": {
    "slideshow": {
     "slide_type": "fragment"
    }
   },
   "source": [
    " We know that the two superposition states |+⟩ or |−⟩ must have been generated from either the |0⟩ or |1⟩ basis states. So, this means that if we were to take our qubit that was in the |+⟩ or |−⟩ state out of superposition, then our qubit would be in either the |0⟩ or |1⟩ basis state."
   ]
  },
  {
   "cell_type": "code",
   "execution_count": 14,
   "metadata": {
    "slideshow": {
     "slide_type": "subslide"
    }
   },
   "outputs": [
    {
     "name": "stdout",
     "output_type": "stream",
     "text": [
      "-0.92388-0.38268j |01>   \n"
     ]
    },
    {
     "data": {
      "image/png": "[encoded data removed]",
      "text/plain": [
       "<Figure size 730.828x204.68 with 1 Axes>"
      ]
     },
     "execution_count": 14,
     "metadata": {},
     "output_type": "execute_result"
    }
   ],
   "source": [
    "#This code snippets demonstrate the process of copying a known state of a qubit\n",
    "#prepare the qubit I want to copy\n",
    "# Create an initial superposition + state\n",
    "qc.h(q[0])\n",
    "# Take the qubit out of superposition\n",
    "qc.h(q[0])\n",
    "# Perform a CNOT between the qubits\n",
    "qc.cx(q[0], q[1])\n",
    "# Put the qubits into superposition and now the states are the same\n",
    "qc.h(q[0])\n",
    "qc.h(q[1])\n",
    "#Execute the circuit\n",
    "qc.measure(q,c)\n",
    "M = execute(qc, S_simulator).result().get_counts(qc)\n",
    "#Display the qubits after the copy\n",
    "oq.Wavefunction(qc)\n",
    "#Draws the circuit\n",
    "qc.draw(output = \"mpl\") "
   ]
  },
  {
   "cell_type": "code",
   "execution_count": 15,
   "metadata": {
    "slideshow": {
     "slide_type": "fragment"
    }
   },
   "outputs": [
    {
     "data": {
      "application/javascript": [
       "Jupyter.notebook.execute_cells([7])\n"
      ],
      "text/plain": [
       "<IPython.core.display.Javascript object>"
      ]
     },
     "metadata": {},
     "output_type": "display_data"
    }
   ],
   "source": [
    "%%javascript \n",
    "Jupyter.notebook.execute_cells([7])"
   ]
  },
  {
   "cell_type": "code",
   "execution_count": 16,
   "metadata": {
    "slideshow": {
     "slide_type": "fragment"
    }
   },
   "outputs": [
    {
     "data": {
      "image/png": "[encoded data removed]",
      "text/plain": [
       "<Figure size 911.428x204.68 with 1 Axes>"
      ]
     },
     "execution_count": 16,
     "metadata": {},
     "output_type": "execute_result"
    }
   ],
   "source": [
    "#This code snippet demonstrates communicating a qubit between two parties\n",
    "# Prepare an initial state for qubit 1 using a single unitary\n",
    "qc.u1(0.5, q[0])\n",
    "# Perform a CNOT between qubit 1 and qubit 2\n",
    "qc.cx(q[0], q[1])\n",
    "# Measure qubit 1 in the |+>, |-> basis\n",
    "qc.h(q[0])\n",
    "qc.measure(q[0], c[0])\n",
    "# If needed Perform a phase correction to qubit 2\n",
    "if c[0] == 1:\n",
    "    qc.z(q[1])\n",
    "qc.draw(output = \"mpl\")"
   ]
  },
  {
   "cell_type": "markdown",
   "metadata": {
    "slideshow": {
     "slide_type": "slide"
    }
   },
   "source": [
    "## Viola!! Alice's initial qubit is now teleported to Bob!"
   ]
  },
  {
   "cell_type": "markdown",
   "metadata": {
    "slideshow": {
     "slide_type": "slide"
    }
   },
   "source": [
    "<img src=\"Pictures/but-wait.png\">"
   ]
  },
  {
   "cell_type": "markdown",
   "metadata": {
    "slideshow": {
     "slide_type": "slide"
    }
   },
   "source": [
    "*Although* we _DID_ telport a qubit from Alice to Bob, Alice and Bob did not communicate *faster* than the speed of light!!\n",
    "\n",
    "Alice needed to share her measurement with Bob through some classical channel which is _not_ faster than light!\n",
    "\n",
    "Alice ended up destroying her qubit in the process of sending it to Bob.\n"
   ]
  },
  {
   "cell_type": "markdown",
   "metadata": {
    "slideshow": {
     "slide_type": "slide"
    }
   },
   "source": [
    "# Quantum Teleportation\n",
    "---\n"
   ]
  },
  {
   "cell_type": "code",
   "execution_count": 17,
   "metadata": {},
   "outputs": [
    {
     "name": "stdout",
     "output_type": "stream",
     "text": [
      "0.70711  |000>   0.70711  |011>   \n",
      "-------------------------------------------------------------------------------\n",
      "{'110': 264, '001': 260, '111': 263, '000': 237}\n",
      "===============================================================================\n",
      "1.0  |000>   \n"
     ]
    },
    {
     "data": {
      "image/png": "[encoded data removed]",
      "text/plain": [
       "<Figure size 550.228x264.88 with 1 Axes>"
      ]
     },
     "execution_count": 17,
     "metadata": {},
     "output_type": "execute_result"
    }
   ],
   "source": [
    "from qiskit import QuantumRegister, ClassicalRegister, QuantumCircuit, Aer, execute\n",
    "from numpy import pi\n",
    "import numpy as np\n",
    "import math as m\n",
    "import Our_Qiskit_Functions as oq\n",
    "\n",
    "#Initialize backends\n",
    "S_simulator = Aer.backends(name='statevector_simulator')[0]\n",
    "M_simulator = Aer.backends(name='qasm_simulator')[0]\n",
    "\n",
    "# Create a Quantum Register and classical registers with 3 qubits and 3 classical bits.\n",
    "q = QuantumRegister(3)\n",
    "c = ClassicalRegister(3)\n",
    "qc = QuantumCircuit(q, c)\n",
    "\n",
    "# Prepare an initial state using a single unitary\n",
    "qc.u1(0.5, q[0])\n",
    "\n",
    " # Prepare an entangled pair using qubit ② and qubit ③\n",
    "qc.h(q[1])\n",
    "qc.cx(q[1], q[2])\n",
    "oq.Wavefunction(qc)\n",
    "# Barrier to prevent gate reordering for optimization\n",
    "qc.barrier(q)\n",
    "\n",
    "# Perform a CNOT between qubit ① and qubit ②\n",
    "qc.cx(q[0], q[1])\n",
    "\n",
    "# Measure qubit ② in the computational basis\n",
    "qc.measure(q[1], c[1])\n",
    "\n",
    "# Measure qubit ① in the + - basis\n",
    "qc.h(q[0])\n",
    "qc.measure(q[0], c[0])\n",
    "\n",
    "# If needed Perform a phase correction to qubit ③\n",
    "if c[0] == 1:\n",
    "    qc.z(q[2])\n",
    "\n",
    "# If needed Perform a bit flip correction to qubit ③\n",
    "if c[1] == 1:\n",
    "    qc.x(q[2])\n",
    "\n",
    "\n",
    "qc.measure(q[2], c[2])\n",
    "\n",
    "\n",
    "# Compile and run the Quantum circuit on a simulator backend\n",
    "job_sim = execute(qc, M_simulator)\n",
    "sim_result = job_sim.result()\n",
    "#print(sim_result)\n",
    "print(\"-------------------------------------------------------------------------------\")\n",
    "print(sim_result.get_counts(qc))\n",
    "print(\"===============================================================================\")\n",
    "oq.Wavefunction(qc)\n",
    "qc.draw(output = \"mpl\")"
   ]
  }
 ],
 "metadata": {
  "celltoolbar": "Slideshow",
  "kernelspec": {
   "display_name": "Python 3",
   "language": "python",
   "name": "python3"
  },
  "language_info": {
   "codemirror_mode": {
    "name": "ipython",
    "version": 3
   },
   "file_extension": ".py",
   "mimetype": "text/x-python",
   "name": "python",
   "nbconvert_exporter": "python",
   "pygments_lexer": "ipython3",
   "version": "3.7.3"
  },
  "latex_envs": {
   "LaTeX_envs_menu_present": true,
   "autoclose": true,
   "autocomplete": true,
   "bibliofile": "biblio.bib",
   "cite_by": "apalike",
   "current_citInitial": 1,
   "eqLabelWithNumbers": true,
   "eqNumInitial": 1,
   "hotkeys": {
    "equation": "Ctrl-E",
    "itemize": "Ctrl-I"
   },
   "labels_anchors": false,
   "latex_user_defs": false,
   "report_style_numbering": false,
   "user_envs_cfg": false
  },
  "toc": {
   "base_numbering": 1,
   "nav_menu": {},
   "number_sections": true,
   "sideBar": true,
   "skip_h1_title": false,
   "title_cell": "Table of Contents",
   "title_sidebar": "Contents",
   "toc_cell": false,
   "toc_position": {},
   "toc_section_display": true,
   "toc_window_display": false
  }
 },
 "nbformat": 4,
 "nbformat_minor": 2
}
